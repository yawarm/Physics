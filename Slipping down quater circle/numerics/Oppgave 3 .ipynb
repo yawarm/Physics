{
 "cells": [
  {
   "cell_type": "code",
   "execution_count": 2,
   "metadata": {},
   "outputs": [
    {
     "name": "stdout",
     "output_type": "stream",
     "text": [
      "Vinkel ved overgang mellom rulling o slurring er: 0.8299811809339815\n",
      "vinkelen når objektet \"faller\" av banen er 0.9269882475563037\n"
     ]
    }
   ],
   "source": [
    "import numpy as np\n",
    "import matplotlib.pyplot as plt\n",
    "\n",
    "dt = 0.0001 \n",
    "fart = 0.0001\n",
    "m = 1 #masse til gjenstand\n",
    "vinkel = 0 #startvinkel\n",
    "g = 9.81\n",
    "r = 0.0285 #radius objekt\n",
    "R = 0.5+r # Radius total\n",
    "c = (2/5)\n",
    "N = m*g*np.cos(vinkel)-m*(fart**(2)/R) #Normalkraft\n",
    "\n",
    "fk_statisk = 1#Friksjonskoeffisient for statisk friksjon\n",
    "F_max = N*fk_statisk #maksimal friksjon for statikk\n",
    "F = 0 #Friksjon ved start\n",
    "\n",
    "# Først, når det er rulling: \n",
    "while F<F_max: #Så lenge det er rulling\n",
    "    ny_fart = fart + (g*np.sin(vinkel))/(1+c)*dt # tid, ved euler\n",
    "    ds = ny_fart*dt #bevegd strekning\n",
    "    dvinkel = ds/R # endring i vinkel\n",
    "    ny_vinkel = vinkel + dvinkel #ny vinkel\n",
    "    N = m*g*np.cos(ny_vinkel)-m*(ny_fart**(2))/R #Normalkraft ved rulling\n",
    "    F = (c*g*m*np.sin(ny_vinkel))/(c+1) #Friksjonskraft ved rulling\n",
    "    F_max = N*fk_statisk # maks friksjonskraft\n",
    "    fart = ny_fart\n",
    "    vinkel = ny_vinkel\n",
    "print(f'Vinkel ved overgang mellom rulling o slurring er: {vinkel}')\n",
    "\n",
    "# Nå som der er slurring har vi en ny - mindre - friksjonskoeffisient:\n",
    "\n",
    "fk_kinetisk = 0.6\n",
    "F = fk_kinetisk*N\n",
    "#Sjekker nå videre, når objektet slurrer, fram til det glipper underlaget:\n",
    "\n",
    "while N>0:\n",
    "    ny_fart = fart + (g*np.sin(vinkel)-(F/m))*dt # tid, ved euler\n",
    "    ds = ny_fart*dt #bevegd strekning\n",
    "    dvinkel = ds/R # endring i vinkel\n",
    "    ny_vinkel = vinkel + dvinkel #ny vinkel\n",
    "    N = m*g*np.cos(ny_vinkel)-m*(ny_fart**(2))/R #Normalkraft ved slurring (altså den samme som for rulling)\n",
    "    F = fk_kinetisk*N #Friksjonskraft ved slurring\n",
    "    fart = ny_fart\n",
    "    vinkel = ny_vinkel\n",
    "    \n",
    "print(f'vinkelen når objektet \"faller\" av banen er {vinkel}')\n",
    "            \n",
    "\n",
    "\n"
   ]
  },
  {
   "cell_type": "code",
   "execution_count": null,
   "metadata": {},
   "outputs": [],
   "source": []
  }
 ],
 "metadata": {
  "kernelspec": {
   "display_name": "Python 3",
   "language": "python",
   "name": "python3"
  },
  "language_info": {
   "codemirror_mode": {
    "name": "ipython",
    "version": 3
   },
   "file_extension": ".py",
   "mimetype": "text/x-python",
   "name": "python",
   "nbconvert_exporter": "python",
   "pygments_lexer": "ipython3",
   "version": "3.8.3"
  }
 },
 "nbformat": 4,
 "nbformat_minor": 4
}
